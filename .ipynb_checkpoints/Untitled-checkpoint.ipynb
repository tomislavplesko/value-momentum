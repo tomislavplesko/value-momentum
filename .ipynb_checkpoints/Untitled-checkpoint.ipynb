{
 "cells": [
  {
   "cell_type": "code",
   "execution_count": 1,
   "id": "39513965",
   "metadata": {},
   "outputs": [],
   "source": [
    "import pandas as pd\n",
    "import requests\n",
    "import numpy as np\n",
    "from scipy.stats import percentileofscore as score\n",
    "from statistics import mean\n",
    "from math import floor"
   ]
  },
  {
   "cell_type": "markdown",
   "id": "302269e1",
   "metadata": {},
   "source": [
    "# CREATING S&P 500 SYMBOL LIST"
   ]
  },
  {
   "cell_type": "code",
   "execution_count": 6,
   "id": "b1d32635",
   "metadata": {},
   "outputs": [
    {
     "name": "stdout",
     "output_type": "stream",
     "text": [
      "['MMM' 'AOS' 'ABT' 'ABBV' 'ABMD' 'ACN' 'ATVI' 'ADM' 'ADBE' 'ADP' 'AAP'\n",
      " 'AES' 'AFL' 'A' 'APD' 'AKAM' 'ALK' 'ALB' 'ARE' 'ALGN']\n"
     ]
    }
   ],
   "source": [
    "sp500 = pd.read_html('https://en.wikipedia.org/wiki/List_of_S%26P_500_companies')\n",
    "sp500_list = np.array(sp500[0]['Symbol'])\n",
    "print(sp500_list[:20])\n",
    "df = pd.DataFrame(columns = sp500_list)"
   ]
  },
  {
   "cell_type": "markdown",
   "id": "6217ca48",
   "metadata": {},
   "source": [
    "\n",
    "# EXTRACTING INTRADAY PRICES OF S&P 500 STOCKS\n"
   ]
  },
  {
   "cell_type": "code",
   "execution_count": null,
   "id": "6e593f61",
   "metadata": {},
   "outputs": [
    {
     "name": "stdout",
     "output_type": "stream",
     "text": [
      "MMM is successfully extracted\n",
      "AOS is successfully extracted\n",
      "ABT is successfully extracted\n",
      "ABBV is successfully extracted\n",
      "ABMD is successfully extracted\n",
      "ACN is successfully extracted\n",
      "ATVI is successfully extracted\n",
      "ADM is successfully extracted\n",
      "ADBE is successfully extracted\n",
      "ADP is successfully extracted\n",
      "AAP is successfully extracted\n",
      "AES is successfully extracted\n",
      "AFL is successfully extracted\n",
      "A is successfully extracted\n",
      "APD is successfully extracted\n",
      "AKAM is successfully extracted\n",
      "ALK is successfully extracted\n",
      "ALB is successfully extracted\n",
      "ARE is successfully extracted\n",
      "ALGN is successfully extracted\n",
      "ALLE is successfully extracted\n",
      "LNT is successfully extracted\n",
      "ALL is successfully extracted\n",
      "GOOGL is successfully extracted\n",
      "GOOG is successfully extracted\n",
      "MO is successfully extracted\n",
      "AMZN is successfully extracted\n",
      "AMCR is successfully extracted\n"
     ]
    }
   ],
   "source": [
    "def get_intraday_prices(symbol):\n",
    "    ticker = symbol\n",
    "    iex_api_key = 'pk_32ef64b2003542b6a829b8f94831c789'\n",
    "    url = f'https://cloud.iexapis.com/stable/stock/{ticker}/intraday-prices?token={iex_api_key}'\n",
    "    df = requests.get(url).json()\n",
    "    date = df[1]['date']\n",
    "        \n",
    "    time = []\n",
    "    open = []\n",
    "    high = []\n",
    "    low = []\n",
    "    close = []\n",
    "    volume = []\n",
    "    number_of_trades = []\n",
    "    \n",
    "    for i in range(len(df)):\n",
    "        time.append(df[i]['label'])\n",
    "        open.append(df[i]['open'])\n",
    "        high.append(df[i]['high'])\n",
    "        low.append(df[i]['low'])\n",
    "        close.append(df[i]['close'])\n",
    "        volume.append(df[i]['volume'])\n",
    "        number_of_trades.append(df[i]['numberOfTrades'])\n",
    "        \n",
    "    time_df = pd.DataFrame(time).rename(columns = {0:'Time'})\n",
    "    open_df = pd.DataFrame(open).rename(columns = {0:'Open'})\n",
    "    high_df = pd.DataFrame(high).rename(columns = {0:'High'})\n",
    "    low_df = pd.DataFrame(low).rename(columns = {0:'Low'})\n",
    "    close_df = pd.DataFrame(close).rename(columns = {0:'Close'})\n",
    "    volume_df = pd.DataFrame(volume).rename(columns = {0:'Volume'})\n",
    "    number_of_trades_df = pd.DataFrame(number_of_trades).rename(columns = {0:'Number of Trades'})\n",
    "     \n",
    "    frames = [time_df, open_df, high_df, low_df, close_df, volume_df, number_of_trades_df]\n",
    "    df = pd.concat(frames, axis = 1, join = 'inner')\n",
    "    df = df.set_index('Time')\n",
    "    return df\n",
    "  \n",
    "    df = pd.DataFrame(columns = sp500_list)\n",
    "\n",
    "for i in df.columns:\n",
    "    try:\n",
    "        df[i] = get_intraday_prices(i)['Close']\n",
    "        print(f'{i} is successfully extracted')\n",
    "    except:\n",
    "        pass\n",
    "    \n",
    "df.to_csv('sp500.csv')\n"
   ]
  },
  {
   "cell_type": "code",
   "execution_count": null,
   "id": "7ea77d3d",
   "metadata": {},
   "outputs": [],
   "source": [
    "\n",
    "# IMPORTING THE EXTRACTED INTRADAY DATA\n",
    "\n",
    "sp500 = pd.read_csv('sp500.csv').set_index('Time')\n",
    "print(sp500.head())"
   ]
  },
  {
   "cell_type": "code",
   "execution_count": null,
   "id": "92923ba4",
   "metadata": {},
   "outputs": [],
   "source": [
    "# CALCULATING DAY CHANGE OF STOCKS\n",
    "\n",
    "dc = []\n",
    "for i in sp500.columns:\n",
    "    dc.append(sp500[i].pct_change().sum())\n",
    "    \n",
    "sp500_momentum = pd.DataFrame(columns = ['symbol', 'day_change'])\n",
    "sp500_momentum['symbol'] = sp500.columns\n",
    "sp500_momentum['day_change'] = dc\n"
   ]
  },
  {
   "cell_type": "code",
   "execution_count": null,
   "id": "5660f695",
   "metadata": {},
   "outputs": [],
   "source": [
    "# CALCULATING MOMENTUM\n",
    "\n",
    "sp500_momentum['momentum'] = 'N/A'\n",
    "for i in range(len(sp500_momentum)):\n",
    "    sp500_momentum.loc[i, 'momentum'] = score(sp500_momentum.day_change, sp500_momentum.loc[i, 'day_change'])/100\n",
    "    \n",
    "sp500_momentum['momentum'] = sp500_momentum['momentum'].astype(float)    \n",
    "print(sp500_momentum.head())\n",
    "\n",
    "top_picks = sp500_momentum.nlargest(10, 'momentum')['symbol'].reset_index().drop('index', axis = 1)\n",
    "print(top_picks)\n"
   ]
  },
  {
   "cell_type": "code",
   "execution_count": null,
   "id": "9825ff74",
   "metadata": {},
   "outputs": [],
   "source": [
    "# BACKTEST\n",
    "\n",
    "portfolio_val = 1000000\n",
    "per_stock_val = portfolio_val/len(top_picks)\n",
    "\n",
    "day_close = []\n",
    "for i in top_picks['symbol']:\n",
    "    data = sp500[i]\n",
    "    day_close.append(data[-1])\n",
    "    \n",
    "backtest_df = pd.DataFrame(columns = ['selected_symbols', 'day_close', 'number_of_stocks', 'return', 'return_percentage'])\n",
    "backtest_df['selected_symbols'] = top_picks['symbol']\n",
    "backtest_df['day_close'] = day_close\n",
    "for i in range(len(backtest_df)):\n",
    "    backtest_df.loc[i, 'number_of_stocks'] = floor(per_stock_val/day_close[i])\n",
    "    \n",
    "returns = []\n",
    "for i in top_picks['symbol']:\n",
    "    ret = np.diff(sp500[i])\n",
    "    ret = ret[~np.isnan(ret)]\n",
    "    returns.append(round(sum(ret), 2))\n",
    "    \n",
    "backtest_returns = []\n",
    "return_percentage = []\n",
    "for i in range(len(backtest_df)):\n",
    "    br = returns[i]*backtest_df.loc[i, 'number_of_stocks']\n",
    "    rp = br/per_stock_val*100\n",
    "    backtest_returns.append(round(br, 2))\n",
    "    return_percentage.append(round(rp, 2))\n",
    "backtest_df['return'] = backtest_returns\n",
    "backtest_df['return_percentage'] = return_percentage\n",
    "\n",
    "backtest_df"
   ]
  }
 ],
 "metadata": {
  "kernelspec": {
   "display_name": "Python 3 (ipykernel)",
   "language": "python",
   "name": "python3"
  },
  "language_info": {
   "codemirror_mode": {
    "name": "ipython",
    "version": 3
   },
   "file_extension": ".py",
   "mimetype": "text/x-python",
   "name": "python",
   "nbconvert_exporter": "python",
   "pygments_lexer": "ipython3",
   "version": "3.10.4"
  }
 },
 "nbformat": 4,
 "nbformat_minor": 5
}
