{
 "cells": [
  {
   "cell_type": "code",
   "execution_count": 7,
   "id": "39513965",
   "metadata": {},
   "outputs": [],
   "source": [
    "import pandas as pd\n",
    "import requests\n",
    "import numpy as np\n",
    "from scipy.stats import percentileofscore as score\n",
    "from statistics import mean\n",
    "from math import floor"
   ]
  },
  {
   "cell_type": "markdown",
   "id": "302269e1",
   "metadata": {},
   "source": [
    "# CREATING S&P 500 SYMBOL LIST"
   ]
  },
  {
   "cell_type": "code",
   "execution_count": 8,
   "id": "b1d32635",
   "metadata": {},
   "outputs": [
    {
     "ename": "ImportError",
     "evalue": "lxml not found, please install it",
     "output_type": "error",
     "traceback": [
      "\u001b[0;31m---------------------------------------------------------------------------\u001b[0m",
      "\u001b[0;31mImportError\u001b[0m                               Traceback (most recent call last)",
      "Input \u001b[0;32mIn [8]\u001b[0m, in \u001b[0;36m<cell line: 1>\u001b[0;34m()\u001b[0m\n\u001b[0;32m----> 1\u001b[0m sp500 \u001b[38;5;241m=\u001b[39m \u001b[43mpd\u001b[49m\u001b[38;5;241;43m.\u001b[39;49m\u001b[43mread_html\u001b[49m\u001b[43m(\u001b[49m\u001b[38;5;124;43m'\u001b[39;49m\u001b[38;5;124;43mhttps://en.wikipedia.org/wiki/List_of_S\u001b[39;49m\u001b[38;5;124;43m%\u001b[39;49m\u001b[38;5;124;43m26P_500_companies\u001b[39;49m\u001b[38;5;124;43m'\u001b[39;49m\u001b[43m)\u001b[49m\n\u001b[1;32m      2\u001b[0m sp500_list \u001b[38;5;241m=\u001b[39m np\u001b[38;5;241m.\u001b[39marray(sp500[\u001b[38;5;241m0\u001b[39m][\u001b[38;5;124m'\u001b[39m\u001b[38;5;124mSymbol\u001b[39m\u001b[38;5;124m'\u001b[39m])\n\u001b[1;32m      3\u001b[0m \u001b[38;5;28mprint\u001b[39m(sp500_list[:\u001b[38;5;241m20\u001b[39m])\n",
      "File \u001b[0;32m~/anaconda3/envs/pytomi/lib/python3.10/site-packages/pandas/util/_decorators.py:311\u001b[0m, in \u001b[0;36mdeprecate_nonkeyword_arguments.<locals>.decorate.<locals>.wrapper\u001b[0;34m(*args, **kwargs)\u001b[0m\n\u001b[1;32m    305\u001b[0m \u001b[38;5;28;01mif\u001b[39;00m \u001b[38;5;28mlen\u001b[39m(args) \u001b[38;5;241m>\u001b[39m num_allow_args:\n\u001b[1;32m    306\u001b[0m     warnings\u001b[38;5;241m.\u001b[39mwarn(\n\u001b[1;32m    307\u001b[0m         msg\u001b[38;5;241m.\u001b[39mformat(arguments\u001b[38;5;241m=\u001b[39marguments),\n\u001b[1;32m    308\u001b[0m         \u001b[38;5;167;01mFutureWarning\u001b[39;00m,\n\u001b[1;32m    309\u001b[0m         stacklevel\u001b[38;5;241m=\u001b[39mstacklevel,\n\u001b[1;32m    310\u001b[0m     )\n\u001b[0;32m--> 311\u001b[0m \u001b[38;5;28;01mreturn\u001b[39;00m \u001b[43mfunc\u001b[49m\u001b[43m(\u001b[49m\u001b[38;5;241;43m*\u001b[39;49m\u001b[43margs\u001b[49m\u001b[43m,\u001b[49m\u001b[43m \u001b[49m\u001b[38;5;241;43m*\u001b[39;49m\u001b[38;5;241;43m*\u001b[39;49m\u001b[43mkwargs\u001b[49m\u001b[43m)\u001b[49m\n",
      "File \u001b[0;32m~/anaconda3/envs/pytomi/lib/python3.10/site-packages/pandas/io/html.py:1113\u001b[0m, in \u001b[0;36mread_html\u001b[0;34m(io, match, flavor, header, index_col, skiprows, attrs, parse_dates, thousands, encoding, decimal, converters, na_values, keep_default_na, displayed_only)\u001b[0m\n\u001b[1;32m   1109\u001b[0m validate_header_arg(header)\n\u001b[1;32m   1111\u001b[0m io \u001b[38;5;241m=\u001b[39m stringify_path(io)\n\u001b[0;32m-> 1113\u001b[0m \u001b[38;5;28;01mreturn\u001b[39;00m \u001b[43m_parse\u001b[49m\u001b[43m(\u001b[49m\n\u001b[1;32m   1114\u001b[0m \u001b[43m    \u001b[49m\u001b[43mflavor\u001b[49m\u001b[38;5;241;43m=\u001b[39;49m\u001b[43mflavor\u001b[49m\u001b[43m,\u001b[49m\n\u001b[1;32m   1115\u001b[0m \u001b[43m    \u001b[49m\u001b[43mio\u001b[49m\u001b[38;5;241;43m=\u001b[39;49m\u001b[43mio\u001b[49m\u001b[43m,\u001b[49m\n\u001b[1;32m   1116\u001b[0m \u001b[43m    \u001b[49m\u001b[43mmatch\u001b[49m\u001b[38;5;241;43m=\u001b[39;49m\u001b[43mmatch\u001b[49m\u001b[43m,\u001b[49m\n\u001b[1;32m   1117\u001b[0m \u001b[43m    \u001b[49m\u001b[43mheader\u001b[49m\u001b[38;5;241;43m=\u001b[39;49m\u001b[43mheader\u001b[49m\u001b[43m,\u001b[49m\n\u001b[1;32m   1118\u001b[0m \u001b[43m    \u001b[49m\u001b[43mindex_col\u001b[49m\u001b[38;5;241;43m=\u001b[39;49m\u001b[43mindex_col\u001b[49m\u001b[43m,\u001b[49m\n\u001b[1;32m   1119\u001b[0m \u001b[43m    \u001b[49m\u001b[43mskiprows\u001b[49m\u001b[38;5;241;43m=\u001b[39;49m\u001b[43mskiprows\u001b[49m\u001b[43m,\u001b[49m\n\u001b[1;32m   1120\u001b[0m \u001b[43m    \u001b[49m\u001b[43mparse_dates\u001b[49m\u001b[38;5;241;43m=\u001b[39;49m\u001b[43mparse_dates\u001b[49m\u001b[43m,\u001b[49m\n\u001b[1;32m   1121\u001b[0m \u001b[43m    \u001b[49m\u001b[43mthousands\u001b[49m\u001b[38;5;241;43m=\u001b[39;49m\u001b[43mthousands\u001b[49m\u001b[43m,\u001b[49m\n\u001b[1;32m   1122\u001b[0m \u001b[43m    \u001b[49m\u001b[43mattrs\u001b[49m\u001b[38;5;241;43m=\u001b[39;49m\u001b[43mattrs\u001b[49m\u001b[43m,\u001b[49m\n\u001b[1;32m   1123\u001b[0m \u001b[43m    \u001b[49m\u001b[43mencoding\u001b[49m\u001b[38;5;241;43m=\u001b[39;49m\u001b[43mencoding\u001b[49m\u001b[43m,\u001b[49m\n\u001b[1;32m   1124\u001b[0m \u001b[43m    \u001b[49m\u001b[43mdecimal\u001b[49m\u001b[38;5;241;43m=\u001b[39;49m\u001b[43mdecimal\u001b[49m\u001b[43m,\u001b[49m\n\u001b[1;32m   1125\u001b[0m \u001b[43m    \u001b[49m\u001b[43mconverters\u001b[49m\u001b[38;5;241;43m=\u001b[39;49m\u001b[43mconverters\u001b[49m\u001b[43m,\u001b[49m\n\u001b[1;32m   1126\u001b[0m \u001b[43m    \u001b[49m\u001b[43mna_values\u001b[49m\u001b[38;5;241;43m=\u001b[39;49m\u001b[43mna_values\u001b[49m\u001b[43m,\u001b[49m\n\u001b[1;32m   1127\u001b[0m \u001b[43m    \u001b[49m\u001b[43mkeep_default_na\u001b[49m\u001b[38;5;241;43m=\u001b[39;49m\u001b[43mkeep_default_na\u001b[49m\u001b[43m,\u001b[49m\n\u001b[1;32m   1128\u001b[0m \u001b[43m    \u001b[49m\u001b[43mdisplayed_only\u001b[49m\u001b[38;5;241;43m=\u001b[39;49m\u001b[43mdisplayed_only\u001b[49m\u001b[43m,\u001b[49m\n\u001b[1;32m   1129\u001b[0m \u001b[43m\u001b[49m\u001b[43m)\u001b[49m\n",
      "File \u001b[0;32m~/anaconda3/envs/pytomi/lib/python3.10/site-packages/pandas/io/html.py:915\u001b[0m, in \u001b[0;36m_parse\u001b[0;34m(flavor, io, match, attrs, encoding, displayed_only, **kwargs)\u001b[0m\n\u001b[1;32m    913\u001b[0m retained \u001b[38;5;241m=\u001b[39m \u001b[38;5;28;01mNone\u001b[39;00m\n\u001b[1;32m    914\u001b[0m \u001b[38;5;28;01mfor\u001b[39;00m flav \u001b[38;5;129;01min\u001b[39;00m flavor:\n\u001b[0;32m--> 915\u001b[0m     parser \u001b[38;5;241m=\u001b[39m \u001b[43m_parser_dispatch\u001b[49m\u001b[43m(\u001b[49m\u001b[43mflav\u001b[49m\u001b[43m)\u001b[49m\n\u001b[1;32m    916\u001b[0m     p \u001b[38;5;241m=\u001b[39m parser(io, compiled_match, attrs, encoding, displayed_only)\n\u001b[1;32m    918\u001b[0m     \u001b[38;5;28;01mtry\u001b[39;00m:\n",
      "File \u001b[0;32m~/anaconda3/envs/pytomi/lib/python3.10/site-packages/pandas/io/html.py:872\u001b[0m, in \u001b[0;36m_parser_dispatch\u001b[0;34m(flavor)\u001b[0m\n\u001b[1;32m    870\u001b[0m \u001b[38;5;28;01melse\u001b[39;00m:\n\u001b[1;32m    871\u001b[0m     \u001b[38;5;28;01mif\u001b[39;00m \u001b[38;5;129;01mnot\u001b[39;00m _HAS_LXML:\n\u001b[0;32m--> 872\u001b[0m         \u001b[38;5;28;01mraise\u001b[39;00m \u001b[38;5;167;01mImportError\u001b[39;00m(\u001b[38;5;124m\"\u001b[39m\u001b[38;5;124mlxml not found, please install it\u001b[39m\u001b[38;5;124m\"\u001b[39m)\n\u001b[1;32m    873\u001b[0m \u001b[38;5;28;01mreturn\u001b[39;00m _valid_parsers[flavor]\n",
      "\u001b[0;31mImportError\u001b[0m: lxml not found, please install it"
     ]
    }
   ],
   "source": [
    "sp500 = pd.read_html('https://en.wikipedia.org/wiki/List_of_S%26P_500_companies')\n",
    "sp500_list = np.array(sp500[0]['Symbol'])\n",
    "print(sp500_list[:20])"
   ]
  },
  {
   "cell_type": "markdown",
   "id": "6217ca48",
   "metadata": {},
   "source": [
    "\n",
    "# EXTRACTING INTRADAY PRICES OF S&P 500 STOCKS\n"
   ]
  },
  {
   "cell_type": "code",
   "execution_count": 6,
   "id": "6e593f61",
   "metadata": {},
   "outputs": [
    {
     "ename": "IndentationError",
     "evalue": "unindent does not match any outer indentation level (<tokenize>, line 53)",
     "output_type": "error",
     "traceback": [
      "\u001b[0;36m  File \u001b[0;32m<tokenize>:53\u001b[0;36m\u001b[0m\n\u001b[0;31m    df = pd.DataFrame(columns = sp500_list)\u001b[0m\n\u001b[0m    ^\u001b[0m\n\u001b[0;31mIndentationError\u001b[0m\u001b[0;31m:\u001b[0m unindent does not match any outer indentation level\n"
     ]
    }
   ],
   "source": [
    "\n",
    "def get_intraday_prices(symbol):\n",
    "    ticker = symbol\n",
    "    iex_api_key = 'pk_32ef64b2003542b6a829b8f94831c789'\n",
    "    url = f'https://cloud.iexapis.com/stable/stock/{ticker}/intraday-prices?token={iex_api_key}'\n",
    "    df = requests.get(url).json()\n",
    "    date = df[1]['date']\n",
    "        \n",
    "    time = []\n",
    "    open = []\n",
    "    high = []\n",
    "    low = []\n",
    "    close = []\n",
    "    volume = []\n",
    "    number_of_trades = []\n",
    "    \n",
    "    for i in range(len(df)):\n",
    "        time.append(df[i]['label'])\n",
    "        open.append(df[i]['open'])\n",
    "        high.append(df[i]['high'])\n",
    "        low.append(df[i]['low'])\n",
    "        close.append(df[i]['close'])\n",
    "        volume.append(df[i]['volume'])\n",
    "        number_of_trades.append(df[i]['numberOfTrades'])\n",
    "        \n",
    "    time_df = pd.DataFrame(time).rename(columns = {0:'Time'})\n",
    "    open_df = pd.DataFrame(open).rename(columns = {0:'Open'})\n",
    "    high_df = pd.DataFrame(high).rename(columns = {0:'High'})\n",
    "    low_df = pd.DataFrame(low).rename(columns = {0:'Low'})\n",
    "    close_df = pd.DataFrame(close).rename(columns = {0:'Close'})\n",
    "    volume_df = pd.DataFrame(volume).rename(columns = {0:'Volume'})\n",
    "    number_of_trades_df = pd.DataFrame(number_of_trades).rename(columns = {0:'Number of Trades'})\n",
    "     \n",
    "    frames = [time_df, open_df, high_df, low_df, close_df, volume_df, number_of_trades_df]\n",
    "    df = pd.concat(frames, axis = 1, join = 'inner')\n",
    "    df = df.set_index('Time')\n",
    "    return df\n",
    "  \n",
    "  df = pd.DataFrame(columns = sp500_list)\n",
    "\n",
    "for i in df.columns:\n",
    "    try:\n",
    "        df[i] = get_intraday_prices(i)['Close']\n",
    "        print(f'{i} is successfully extracted')\n",
    "    except:\n",
    "        pass\n",
    "    \n",
    "df.to_csv('sp500.csv')\n",
    "\n",
    "# IMPORTING THE EXTRACTED INTRADAY DATA\n",
    "\n",
    "sp500 = pd.read_csv('sp500.csv').set_index('Time')\n",
    "print(sp500.head())\n",
    "\n",
    "# CALCULATING DAY CHANGE OF STOCKS\n",
    "\n",
    "dc = []\n",
    "for i in sp500.columns:\n",
    "    dc.append(sp500[i].pct_change().sum())\n",
    "    \n",
    "sp500_momentum = pd.DataFrame(columns = ['symbol', 'day_change'])\n",
    "sp500_momentum['symbol'] = sp500.columns\n",
    "sp500_momentum['day_change'] = dc\n",
    "\n",
    "# CALCULATING MOMENTUM\n",
    "\n",
    "sp500_momentum['momentum'] = 'N/A'\n",
    "for i in range(len(sp500_momentum)):\n",
    "    sp500_momentum.loc[i, 'momentum'] = score(sp500_momentum.day_change, sp500_momentum.loc[i, 'day_change'])/100\n",
    "    \n",
    "sp500_momentum['momentum'] = sp500_momentum['momentum'].astype(float)    \n",
    "print(sp500_momentum.head())\n",
    "\n",
    "top_picks = sp500_momentum.nlargest(10, 'momentum')['symbol'].reset_index().drop('index', axis = 1)\n",
    "print(top_picks)\n",
    "\n",
    "# BACKTEST\n",
    "\n",
    "portfolio_val = 1000000\n",
    "per_stock_val = portfolio_val/len(top_picks)\n",
    "\n",
    "day_close = []\n",
    "for i in top_picks['symbol']:\n",
    "    data = sp500[i]\n",
    "    day_close.append(data[-1])\n",
    "    \n",
    "backtest_df = pd.DataFrame(columns = ['selected_symbols', 'day_close', 'number_of_stocks', 'return', 'return_percentage'])\n",
    "backtest_df['selected_symbols'] = top_picks['symbol']\n",
    "backtest_df['day_close'] = day_close\n",
    "for i in range(len(backtest_df)):\n",
    "    backtest_df.loc[i, 'number_of_stocks'] = floor(per_stock_val/day_close[i])\n",
    "    \n",
    "returns = []\n",
    "for i in top_picks['symbol']:\n",
    "    ret = np.diff(sp500[i])\n",
    "    ret = ret[~np.isnan(ret)]\n",
    "    returns.append(round(sum(ret), 2))\n",
    "    \n",
    "backtest_returns = []\n",
    "return_percentage = []\n",
    "for i in range(len(backtest_df)):\n",
    "    br = returns[i]*backtest_df.loc[i, 'number_of_stocks']\n",
    "    rp = br/per_stock_val*100\n",
    "    backtest_returns.append(round(br, 2))\n",
    "    return_percentage.append(round(rp, 2))\n",
    "backtest_df['return'] = backtest_returns\n",
    "backtest_df['return_percentage'] = return_percentage\n",
    "\n",
    "backtest_df"
   ]
  },
  {
   "cell_type": "code",
   "execution_count": null,
   "id": "9825ff74",
   "metadata": {},
   "outputs": [],
   "source": []
  }
 ],
 "metadata": {
  "kernelspec": {
   "display_name": "Python 3 (ipykernel)",
   "language": "python",
   "name": "python3"
  },
  "language_info": {
   "codemirror_mode": {
    "name": "ipython",
    "version": 3
   },
   "file_extension": ".py",
   "mimetype": "text/x-python",
   "name": "python",
   "nbconvert_exporter": "python",
   "pygments_lexer": "ipython3",
   "version": "3.10.4"
  }
 },
 "nbformat": 4,
 "nbformat_minor": 5
}
